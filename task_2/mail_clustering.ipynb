{
 "cells": [
  {
   "cell_type": "code",
   "execution_count": 57,
   "metadata": {
    "collapsed": true
   },
   "outputs": [],
   "source": [
    "import numpy as np\n",
    "import pandas as pd\n",
    "import re\n",
    "import string\n",
    "from collections import defaultdict\n",
    "import nltk\n",
    "from sklearn.feature_extraction.text import TfidfVectorizer, HashingVectorizer, CountVectorizer\n",
    "from sklearn.cluster import KMeans, MiniBatchKMeans"
   ]
  },
  {
   "cell_type": "code",
   "execution_count": 2,
   "metadata": {
    "collapsed": false
   },
   "outputs": [],
   "source": [
    "emails = pd.read_csv('hillary-clinton-emails/Emails.csv')\n",
    "receivers = pd.read_csv('hillary-clinton-emails/EmailReceivers.csv')\n",
    "persons = pd.read_csv('hillary-clinton-emails/Persons.csv')\n",
    "aliases = pd.read_csv('hillary-clinton-emails/Aliases.csv')"
   ]
  },
  {
   "cell_type": "code",
   "execution_count": 3,
   "metadata": {
    "collapsed": false
   },
   "outputs": [
    {
     "data": {
      "text/plain": [
       "Index(['Id', 'DocNumber', 'MetadataSubject', 'MetadataTo', 'MetadataFrom',\n",
       "       'SenderPersonId', 'MetadataDateSent', 'MetadataDateReleased',\n",
       "       'MetadataPdfLink', 'MetadataCaseNumber', 'MetadataDocumentClass',\n",
       "       'ExtractedSubject', 'ExtractedTo', 'ExtractedFrom', 'ExtractedCc',\n",
       "       'ExtractedDateSent', 'ExtractedCaseNumber', 'ExtractedDocNumber',\n",
       "       'ExtractedDateReleased', 'ExtractedReleaseInPartOrFull',\n",
       "       'ExtractedBodyText', 'RawText'],\n",
       "      dtype='object')"
      ]
     },
     "execution_count": 3,
     "metadata": {},
     "output_type": "execute_result"
    }
   ],
   "source": [
    "emails.columns"
   ]
  },
  {
   "cell_type": "markdown",
   "metadata": {},
   "source": [
    "## Предобработка текста\n",
    "\n",
    "Все тексты содержатся в колонках ExtractedBodyText и RawText. В ExtractedBodyText -- предобработанные создателями датасета тексты из RawText, но в них нет forward-ов и attachment-ов, поэтому лучше будем работать с текстами из колонки RawText, убрав из них заголовки писем и пометки US State Department, а также удалив пустые строки и пунктуацию."
   ]
  },
  {
   "cell_type": "code",
   "execution_count": 4,
   "metadata": {
    "collapsed": true
   },
   "outputs": [],
   "source": [
    "raw_email_texts = emails['RawText'].dropna()"
   ]
  },
  {
   "cell_type": "code",
   "execution_count": 5,
   "metadata": {
    "collapsed": true
   },
   "outputs": [],
   "source": [
    "def remove_state_dept_info(email, axis):\n",
    "    email = re.sub(r'[\\x00-\\x08\\x0b\\x0c\\x0e-\\x1f\\x7f-\\xff]', '', email)\n",
    "    email = re.sub(r'UNCLASS.*?NO FOIA WAIVER\\..(RELEASE IN.?(FULL|PART)?|STATE-\\w+)?','',\n",
    "                   email, flags=re.DOTALL)\n",
    "    email = re.sub(r'^UNCLASSIFIED.*$', '', email, flags=re.MULTILINE)\n",
    "    email = re.sub(r'^RELEASE IN (FULL|PART).*$', '', email, flags=re.MULTILINE)\n",
    "    return email"
   ]
  },
  {
   "cell_type": "code",
   "execution_count": 6,
   "metadata": {
    "collapsed": true
   },
   "outputs": [],
   "source": [
    "def remove_email_header(email, axis):\n",
    "    email = re.sub(r'^(From|Re|Sent|To|Cc|cc|CC|Importance|For|Attachments|Subject|Fw|Fwd).*$', '',\n",
    "                   email, flags=re.MULTILINE)\n",
    "    email = re.sub(r'B\\d','',email)\n",
    "    return email"
   ]
  },
  {
   "cell_type": "code",
   "execution_count": 7,
   "metadata": {
    "collapsed": true
   },
   "outputs": [],
   "source": [
    "def remove_empty_lines_and_punctuation(email, axis):\n",
    "    email = '\\n'.join([s for s in email.splitlines() if s])\n",
    "    return ''.join([ch for ch in email if ch not in set(string.punctuation)])"
   ]
  },
  {
   "cell_type": "code",
   "execution_count": 8,
   "metadata": {
    "collapsed": false
   },
   "outputs": [],
   "source": [
    "email_texts_prepared = raw_email_texts.apply(remove_state_dept_info, axis=0)\n",
    "email_texts_prepared = email_texts_prepared.apply(remove_email_header, axis=0)\n",
    "email_texts_prepared = email_texts_prepared.apply(remove_empty_lines_and_punctuation, axis=0)"
   ]
  },
  {
   "cell_type": "code",
   "execution_count": 9,
   "metadata": {
    "collapsed": false
   },
   "outputs": [
    {
     "data": {
      "text/plain": [
       "'1213\\n5pm\\nSECRETARY OF STATE HILLARY RODHAM CLINTON\\nTILE HUMAN RIGHTS AGENDA FOR THE 21sT CENTURY\\nGEORGETOWN UNIVERSITY\\nWASHINGTON DC\\nDECEMBER 14 2009\\n1\\n2\\n3\\n4\\n4\\n5\\n6\\n7\\n8\\n9\\n10\\n11\\n12\\n13\\n14\\n15\\n1\\n16\\n17\\n\\n18'"
      ]
     },
     "execution_count": 9,
     "metadata": {},
     "output_type": "execute_result"
    }
   ],
   "source": [
    "email_texts_prepared[3500]"
   ]
  },
  {
   "cell_type": "code",
   "execution_count": 10,
   "metadata": {
    "collapsed": false
   },
   "outputs": [],
   "source": [
    "bigrams = defaultdict(int)\n",
    "for email in email_texts_prepared:\n",
    "    tokens = re.split(r'\\s+', email)\n",
    "    if len(tokens) > 1:\n",
    "        token1, token2 = tokens[0], tokens[1]\n",
    "        bigrams[(token1, token2)] += 1\n",
    "        for token in tokens[2:]:\n",
    "            token1 = token2\n",
    "            token2 = token\n",
    "            bigrams[(token1, token2)] += 1"
   ]
  },
  {
   "cell_type": "code",
   "execution_count": 11,
   "metadata": {
    "collapsed": false
   },
   "outputs": [],
   "source": [
    "sorted_bigrams = list(sorted(bigrams.items(), key=lambda x: -x[1]))"
   ]
  },
  {
   "cell_type": "code",
   "execution_count": 56,
   "metadata": {
    "collapsed": false
   },
   "outputs": [
    {
     "data": {
      "text/plain": [
       "[(('of', 'the'), 13497),\n",
       " (('in', 'the'), 9082),\n",
       " (('Original', 'Message'), 7190),\n",
       " (('to', 'the'), 6197),\n",
       " (('on', 'the'), 4716),\n",
       " (('and', 'the'), 4060),\n",
       " (('for', 'the'), 3854),\n",
       " (('that', 'the'), 3546),\n",
       " (('with', 'the'), 3084),\n",
       " (('to', 'be'), 2977),\n",
       " (('at', 'the'), 2526),\n",
       " (('will', 'be'), 2357),\n",
       " (('by', 'the'), 2289),\n",
       " (('the', 'US'), 2172),\n",
       " (('is', 'a'), 2083),\n",
       " (('from', 'the'), 2055),\n",
       " (('United', 'States'), 1894),\n",
       " (('of', 'a'), 1828),\n",
       " (('the', 'United'), 1762),\n",
       " (('as', 'a'), 1754),\n",
       " (('has', 'been'), 1711),\n",
       " (('in', 'a'), 1638),\n",
       " (('is', 'the'), 1454),\n",
       " (('would', 'be'), 1418),\n",
       " (('for', 'a'), 1396),\n",
       " (('it', 'is'), 1353),\n",
       " (('as', 'the'), 1307),\n",
       " (('have', 'been'), 1239),\n",
       " (('want', 'to'), 1236),\n",
       " (('of', 'State'), 1235)]"
      ]
     },
     "execution_count": 56,
     "metadata": {},
     "output_type": "execute_result"
    }
   ],
   "source": [
    "sorted_bigrams[:30]"
   ]
  },
  {
   "cell_type": "code",
   "execution_count": 51,
   "metadata": {
    "collapsed": true
   },
   "outputs": [],
   "source": [
    "all_words = []\n",
    "for email in email_texts_prepared:\n",
    "    tokens = re.split(r'\\s+', email)\n",
    "    all_words.extend([token for token in tokens if len(token) > 0])"
   ]
  },
  {
   "cell_type": "code",
   "execution_count": 54,
   "metadata": {
    "collapsed": false
   },
   "outputs": [],
   "source": [
    "bigram_measures = nltk.collocations.BigramAssocMeasures()\n",
    "finder = nltk.collocations.BigramCollocationFinder.from_words(all_words)\n",
    "finder.apply_freq_filter(120)"
   ]
  },
  {
   "cell_type": "code",
   "execution_count": 55,
   "metadata": {
    "collapsed": false
   },
   "outputs": [
    {
     "data": {
      "text/plain": [
       "[('Sinn', 'Fein'),\n",
       " ('AGIS', 'DoS'),\n",
       " ('OFFICE', 'TIME'),\n",
       " ('DAS', 'AGIS'),\n",
       " ('Human', 'Rights'),\n",
       " ('Source', 'Comment'),\n",
       " ('Saudi', 'Arabia'),\n",
       " ('per', 'cent'),\n",
       " ('Northern', 'Ireland'),\n",
       " ('Lona', 'Valmoro'),\n",
       " ('Private', 'Residence'),\n",
       " ('Sullivan', 'Jacob'),\n",
       " ('SECRETARY', 'CLINTON'),\n",
       " ('Class', 'CONFIDENTIAL'),\n",
       " ('Reason', '14B'),\n",
       " ('prime', 'minister'),\n",
       " ('En', 'route'),\n",
       " ('D', 'MillsCDstategov'),\n",
       " ('Jacob', 'J'),\n",
       " ('14B', '14D'),\n",
       " ('Street', 'NW'),\n",
       " ('Tea', 'Party'),\n",
       " ('Tony', 'Blair'),\n",
       " ('Middle', 'East'),\n",
       " ('civil', 'society'),\n",
       " ('North', 'Korea'),\n",
       " ('West', 'Bank'),\n",
       " ('Special', 'Assistant'),\n",
       " ('Operations', 'Center'),\n",
       " ('sensitive', 'source')]"
      ]
     },
     "execution_count": 55,
     "metadata": {},
     "output_type": "execute_result"
    }
   ],
   "source": [
    "finder.nbest(bigram_measures.pmi, 30) "
   ]
  },
  {
   "cell_type": "code",
   "execution_count": 58,
   "metadata": {
    "collapsed": true
   },
   "outputs": [],
   "source": [
    "vectorizer = TfidfVectorizer()\n",
    "X = vectorizer.fit_transform(email_texts_prepared.values)"
   ]
  },
  {
   "cell_type": "code",
   "execution_count": 65,
   "metadata": {
    "collapsed": false
   },
   "outputs": [],
   "source": [
    "names = vectorizer.get_feature_names()"
   ]
  },
  {
   "cell_type": "code",
   "execution_count": 88,
   "metadata": {
    "collapsed": false
   },
   "outputs": [
    {
     "data": {
      "text/plain": [
       "KMeans(algorithm='auto', copy_x=True, init='k-means++', max_iter=300,\n",
       "    n_clusters=15, n_init=10, n_jobs=1, precompute_distances='auto',\n",
       "    random_state=None, tol=0.0001, verbose=0)"
      ]
     },
     "execution_count": 88,
     "metadata": {},
     "output_type": "execute_result"
    }
   ],
   "source": [
    "k_means = KMeans(n_clusters=15)\n",
    "k_means.fit(X)"
   ]
  },
  {
   "cell_type": "code",
   "execution_count": 92,
   "metadata": {
    "collapsed": true
   },
   "outputs": [],
   "source": [
    "pred_labels = k_means.predict(X)"
   ]
  },
  {
   "cell_type": "code",
   "execution_count": 108,
   "metadata": {
    "collapsed": false
   },
   "outputs": [
    {
     "name": "stdout",
     "output_type": "stream",
     "text": [
      "Class 0:\n",
      "\n",
      "Class 1:\n",
      "Saturday April 11 2009 659 PM\n",
      "Delivered Any news\n",
      "detailstxt\n",
      "Your message was delivered to the recipient\n",
      "Class 2:\n",
      "The position is not clearly defined\n",
      "14B14D\n",
      "Fyi below\n",
      "Mills Cheryl D MillsCDstategov\n",
      "Tuesday February 23 2010 738 AM\n",
      "FW Rio GroupHaiti\n",
      "Classified by DAS AGIS DoS on 08272015 — Class CONFIDENTIAL — Reason 14B 14D —\n",
      "Declassify on 02232020\n",
      "Original Message\n",
      "Thomas A\n",
      "14B\n",
      "1 4C\n",
      "Original Message\n",
      "Thomas A\n",
      "14B\n",
      "14D\n",
      "JulissaCheryl Per Foreign Minister Fernandez\n",
      "Original Message\n",
      "Simons Paul E Santiago\n",
      "14D\n",
      "Including Tom Shannon and Paul Simons who know more\n",
      "Original Message \n",
      "What is the position To whom does it report What is the function\n",
      "cdm\n",
      "Original Message\n",
      "Julissa\n",
      "Class 3:\n",
      "RELEASE IN\n",
      "FULL\n",
      "When am I supposed to call Libyans\n",
      "Original Message\n",
      "Class 4:\n",
      "Jerusalem Post Prime Minister Netanyahu met with Likud MKs and deputy ministers to discuss the US\n",
      "proposal for a 90day construction freeze November 21 In the meeting Netanyahu told the Likud officials I\n",
      "have a responsibility that includes making the best decision for the state of Israel and its national interests\n",
      "foremost its security He continued We still havent received the written agreement from the Americans on\n",
      "the basic understandings The prime minister assured those attending the meeting If we receive a written\n",
      "agreement I will bring it to the cabinet and I am sure that the ministers will approve it because it is whats best\n",
      "for the state of Israel He added If we dont receive such a document I wont bring the issue of a freeze to\n",
      "the cabinet\n",
      "Earlier in the day thousands of settlers protested outside the Prime Ministers Office in Jerusalem against the\n",
      "potential freeze National Infrastructures Minister Uzi Landau an opponent of an additional freeze addressed\n",
      "the demonstrators Dozens of youngsters also blocked the entrance to Jerusalem Police dispersed the\n",
      "protesters and arrested two people Over the weekend Kadima MK Avi Dichter told The Jerusalem Post The\n",
      "total freeze for 10 months was a serious mistake said Dichter It was clear that it would come to an end and\n",
      "that in those 10 months nothing dramatic could happen between Israel and the Palestinians — leaving us in the\n",
      "same situation as at the beginning\n",
      "Netanyahu made a second mistake when he didnt agree to the American request to extend a twomonth\n",
      "freeze immediately on September 26 and insist that it was the last freeze If he had wed be one week away\n",
      "from the end rather than in our current state he said Dichter said the main problem is that the topic of the\n",
      "freeze has become the central topic of discussion rather than talks between us and the Palestinians\n",
      "Class 5:\n",
      "I want to send the development speech as delivered w a note from me to the appropriate Members of Congress\n",
      "authorizing appropriating leadership others I can sign the letters anytime before I leave for AsiaPacific on Monday\n",
      "am Thx so much\n",
      "Class 6:\n",
      "Can be done whenever you are back His office knows you are running just a few minutes late\n",
      "Lauren\n",
      "Class 7:\n",
      "Abedin Huma AbedinHstategov\n",
      "Saturday May 9 2009 107 PM\n",
      "H\n",
      "Want to make sure you know michele krohn friedson is doing advance for the memorial service She worked for us for\n",
      "many years in nyc office Now working for kirsten\n",
      "Class 8:\n",
      "730 am t PHONE CALL wTURKISH FOREIGN MINISTER AHMET\n",
      "745 am t DAVUTOGLU T Private Residence\n",
      "745 am t PHONE CALL wFORMER TURKISH FOREIGN MINISTER ALI\n",
      "800 am t BAI3ACAN T Private Residence\n",
      "815 am DEPART Private Residence En route State Department\n",
      "825 am ARRIVE State Department\n",
      "825 am PRESIDENTIAL DAILY BRIEFING\n",
      "830 am Secretarys Office\n",
      "830 am DAILY SMALL STAFF MEETING\n",
      "845 am Secretarys Office Attending Cheryl Hums Jake Joe Andrew and Lona\n",
      "845 am DAILY MEETING wSENIOR STAFF\n",
      "915 am Secretarys Conference Room\n",
      "915 am WEEKLY MEETING wREGIONAL BUREAU SECRETARIES\n",
      "1000 am Deputy Secretarys Conference Room\n",
      "1000 am PREBRIEF MEETING ON LAVROV VISIT\n",
      "1030 am Secretarys Office\n",
      "1030 am BILATERAL wAFGHAN FOREIGN MINISTER RANGIN DADFAR\n",
      "1045 am SPANTA Secretarys Office\n",
      "1045 am BILATERAL wPAKISTANI FOREIGN MINISTER MAICHDOOM\n",
      "1100 am SHAH MEHMOOD QURESHI Secretarys Office\n",
      "1100 am BILATERAL wSLOVAK FOREIGN MINISTER MIROSLAV LAJCAK\n",
      "21\n",
      "1130 am Secretarys Conference Room Camera Spray in Treaty Room Preceding\n",
      "1130 am t DROPBY wSE DENNIS ROSS AND FORMER SPANISH PRESIDENT\n",
      "1135 am t GONZALEZ Secretarys Office\n",
      "1200 pm BILATERAL wRUSSIAN FOREIGN MINISTER SERGEY LAVROV\n",
      "100 pm Deputy Secretarys Conference Room Official Photo in Marshall Room preceding\n",
      "100 pm xrPRESS AVAILABILITY wRUSSIAN FOREIGN MINISTER LAVROV\n",
      "115 pm Benjamin Franklin Room 8th floor\n",
      "115 pm WORKING LUNCH wRUSSIAN FOREIGN MINISTER LAVROV\n",
      "230 pm James Madison Room 8th Floor\n",
      "240 pm DEPART State Department En route White House\n",
      "245 pm ARRIVE White House\n",
      "245 pm WEEKLY MEETING wPRESIDENT OBAMA ANT VP BIDEN\n",
      "315 pm Oval Office\n",
      "320 pm DEPART White House En route State Department\n",
      "325 pm ARRIVE State Department\n",
      "345 pm BILATERAL wITALIAN FOREIGN MINISTER FRANCO\n",
      "400 pm FRATTINI Secretarys Office Camera Spray in Treaty Room preceding\n",
      "410 pm DEPART State Department En route White House\n",
      "415 pm ARRIVE White House\n",
      "415 pm PRESIDENTS MEETING wRUSSIAN FM SERGEY LAVROV\n",
      "445 pm Oval Office Pool Spray at top POTUS and Lawov only\n",
      "• 22\n",
      "515 pm PRINCIPALS COMMITTEE MEETING\n",
      "630 pm White House Situation Room\n",
      "635 pm DEPART White House En route Private Residence\n",
      "645 pm ARRIVE Private Residence\n",
      "\n",
      "Class 9:\n",
      "And also pls pass the salt\n",
      "Thx\n",
      "Original Message \n",
      "Class 10:\n",
      "  CIA\n",
      "PERSORG\n",
      "Good evening\n",
      " CIA PERSORG\n",
      "First amazing service today Many thanks to you and everyone at your Department beginning with the Secretary  for\n",
      "working so Incredibly hard to make such a difficult ceremony so dignified for everyone involved The Director and I are\n",
      "truly grateful\n",
      "Second we are now in the process of sending you the classified cables the Secretary andor you requested We are\n",
      "sending them to your Ops Center Thanks\n",
      "Cheers RS\n",
      "Class 11:\n",
      "H hrod17clintonemailcom\n",
      "Friday November 6 2009 514 PM\n",
      "sbwhoeop\n",
      "Ok And by the way Well celebrate in December\n",
      "Original Message\n",
      "I ran into Charlie in NY this week He talked about his upcoming interview with you He said he wanted to focus a lot on\n",
      "China That he will be in Berlin will help focus him too on the transatlantic relationship which I would also bring up if he\n",
      "doesnt Sid\n",
      "Class 12:\n",
      "RELEASE IN\n",
      "PART \n",
      "The team proposes to release the following statement under your name tomorrow\n",
      "I think it works Please let me know what you think\n",
      "Statement by the Secretary\n",
      "On the Restoration of Democratic and Constitutional Order In Honduras November 27 2009\n",
      "The United States remains committed to help restore the democratic and constitutional order in Honduras in the wake\n",
      "of the June 28 coup detat that removed President Zelaya and led to the suspension of Honduras from the Organization\n",
      "of American States As part of that effort it is essential for both parties in Honduras to implement the measures they\n",
      "agreed to in the TegucigalpaSan Jose Accord including the formation of a government of unity and national\n",
      "reconciliation and the December 2 congressional vote on President Zelayas restitution These are vital elements of the\n",
      "TegucigalpaSan Jose Accord and the Honduran people and the international community expect an expeditious\n",
      "determination We look forward to the Congressional deliberations getting underway as announced\n",
      "The November 29 national elections are another critical step in the restoration of the democratic and constitutional\n",
      "order in Honduras The electoral process  launched well before June 28 and involving legitimate candidates\n",
      "representing parties with longstanding democratic traditions from a broad ideological spectrum  is conducted under\n",
      "the stewardship of the nonpartisan Supreme Electoral Tribunal which was also selected before the coup The electoral\n",
      "renewal of presidential congressional and mayoral mandates enshrined in the Honduran constitution is an inalienable\n",
      "expression of the sovereign will of the citizens of Honduras We wish the Honduran people well as they choose their\n",
      "new leaders on Sunday and we urge all sides to exercise their rights peacefully\n",
      "The holding of a free fair and transparent election is necessary but not sufficient for Honduras to reestablish the\n",
      "democratic and constitutional order In order to help achieve that objective we will continue along with others in the\n",
      "region to support the stepbystep implementation of the TegucigalpaSan Jose Accord as a democratic way forward for\n",
      "the Honduran people The presidentelect who emerges from an election deemed free and fair will have a unique\n",
      "opportunity to promote that vital mission\n",
      "Class 13:\n",
      "Fyi\n",
      "Philippe and michael turner will be at first stop Ill meet you with pam mills at second stop\n",
      "119\n",
      "Class 14:\n",
      "Pls print\n",
      "Original Message\n",
      "This is a good suggestion from Jillian Burns in SPto make sure that children and wonen dont become targets of\n",
      "traffickers as happened in Pakistan\n",
      "httpwwwcbsatlantacomnews22239047detailhtml\n",
      "Child Trafficking Major Concern After Quake\n",
      "Thousands Of Children Left Without Parents\n",
      "By Mike Paluska CBS Atlanta Reporter\n",
      "POSTED 458 pm EST January 14 2010\n",
      "UPDATED 528 pm EST January 14 2010\n",
      "ATLANTA  UNICEF and international adoption agencies said getting children into safe zones is a top priority after the\n",
      "devastating earthquake in Haiti\n",
      "The massive magnitude 70 earthquake that hit the island of Hispaniola has left thousands of children without parents\n",
      "Before the quake even hit UNICEF statistics from 2007 show there were 380000 orphans already in Haiti\n",
      "There are so many children that are in desperate need of help thats what we are here to do to keep them alive and get\n",
      "them the nutrients they need and clean water It becomes the one place of stability for the kids where they have people\n",
      "UNICEF workers they can relate to they have educational material so they can start back with school said Alissa\n",
      "Silverman deputy director for UNICEF in the southeast region UNICEF is tracing family members and caring for\n",
      "children orphaned by the disaster to protect them from harm or exploitation\n",
      "The number of children on the island is staggering Fortysix percent of Haitis population nearly 10 million is under the\n",
      "age of 18 more than half of the population is under 21 Prior to the earthquake four of every 10 children lived in homes\n",
      "with mud floors or severely overcrowded conditions\n",
      "My first concern is who is with the kids how many of our nannies our ok and who is watching the kids and then all the\n",
      "kids on the streets said Chareyl Moyes the program manager for Wasatch International Adoption Moyes works with a\n",
      "number of different agencies and orphanages in Haiti She said early reports about how much damage they suffered are\n",
      "good\n",
      "But there is going to be a concern about child trafficking so both Haitian and the United States governments are going\n",
      "to be careful about forging ahead with new adoptions The need is going to be great Moyes said\n",
      "A lot of families in the US according to a number of international adoption agencies across the country said some\n",
      "people were at the very end of the process to adopt a child from Haiti Now it will set everyone back Moyes said\n",
      "Even though child trafficking is a major concern for Moyes she worries about the immediate help children need trapped\n",
      "in the rubble from a country in ruins How long will that child survive without somebody rescuing them Moyes said\n",
      "httpwwwwestportnowcomindexphpv226294\n",
      "Save the Children Emergency Team Reaches Haiti httpwwwwestportnowcomindexphpv2comments26294\n",
      "An emergency response team from Westports Save the Children successfully reached Haiti today and worked quickly\n",
      "with staff already on the ground to organize the distribution of tents medicine and toiletries to children and families in\n",
      "desperate need the charity said\n",
      "Save the Children is extremely concerned about the wellbeing of children in Haiti at this critical moment and we are\n",
      "doing everything we can to quickly get relief supplies to those who need it most said Charles MacCormack president\n",
      "and CEO of Save the Children in a news release\n",
      "Our staff on the ground is pulling out all the stops to overcome hurdles like blocked roads and unreliable access to the\n",
      "airport\n",
      "This is just the beginning of what will be a comprehensive fiveyear effort to build back better in Haiti We are\n",
      "dedicated to not only addressing the immediate needs of children and families but to making sure they have a brighter\n",
      "future ahead\n",
      "httpchildrenforeignpolicyblogscom20100113haitisdisastrousearthquakehitschildrenhardest\n",
      "As someone in the antitrafficking news of the disaster in Haiti has my mind rushing to worrying thoughts on how the\n",
      "disaster will increase human trafficking in the country Such a large scale disaster will undoubtedly leave thousands and\n",
      "thousands of children and their families at an increased to be victimized by modern slavery\n",
      "Haitis Restavek system still has a tight grip on the community leaving some 300000 children in the country enslaved as\n",
      "domestic workers according to the UN It is these children who will continue to anguish and suffer the most in the\n",
      "shadows of the earthquake\n"
     ]
    }
   ],
   "source": [
    "for class_label in range(15):\n",
    "    print('Class {}:'.format(class_label))\n",
    "    class_members = email_texts_prepared.values[pred_labels==class_label]\n",
    "    chosen = np.random.choice(np.arange(class_members.shape[0]))\n",
    "    print(class_members[chosen])"
   ]
  },
  {
   "cell_type": "code",
   "execution_count": 90,
   "metadata": {
    "collapsed": false
   },
   "outputs": [],
   "source": []
  },
  {
   "cell_type": "code",
   "execution_count": 91,
   "metadata": {
    "collapsed": false
   },
   "outputs": [
    {
     "name": "stdout",
     "output_type": "stream",
     "text": [
      "the to in of original message and for on is this will you draft at\n",
      "delivered recipient your was message the to detailstxt pverveer saturday april 11 659 2009 pm\n",
      "14d 14b agis declassify das dos class classified on confidential reason 14b14d 08272015 the by\n",
      "release full in part original message call you to tomorrow will can the at talk\n",
      "the to israel of palestinian israeli in and said palestinians talks jerusalem netanyahu that peace\n",
      "the of to and in on for is that with we said be will as\n",
      "to you original message call the can and will for me do we in if\n",
      "abedin huma pm 2009 2010 abedinhstategov hrod17clintonemailcom am sullivan sunday sullivanjjstategov jacob message original to\n",
      "pm secretarys am office room depart arrive en route residence meeting private department state daily\n",
      "original message to ok you call can do the and for him will we it\n",
      "the to and you of in is this for we on that it message with\n",
      "he to the and his in is that you of original message him was on\n",
      "the honduras zelaya to and of honduran in we jose president oas democratic that with\n",
      "cheryl mills millscdstategov fyi 2009 to message original the pm you am and cdm in\n",
      "the of to and in that is for on with as it this he was\n"
     ]
    }
   ],
   "source": []
  },
  {
   "cell_type": "code",
   "execution_count": null,
   "metadata": {
    "collapsed": true
   },
   "outputs": [],
   "source": []
  }
 ],
 "metadata": {
  "kernelspec": {
   "display_name": "Python 3",
   "language": "python",
   "name": "python3"
  },
  "language_info": {
   "codemirror_mode": {
    "name": "ipython",
    "version": 3
   },
   "file_extension": ".py",
   "mimetype": "text/x-python",
   "name": "python",
   "nbconvert_exporter": "python",
   "pygments_lexer": "ipython3",
   "version": "3.5.1"
  }
 },
 "nbformat": 4,
 "nbformat_minor": 1
}
